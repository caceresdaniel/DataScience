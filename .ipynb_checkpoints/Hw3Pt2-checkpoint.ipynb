{
 "cells": [
  {
   "cell_type": "markdown",
   "metadata": {},
   "source": [
    "### Importing all the packages needed for scikit-learn, and so on "
   ]
  },
  {
   "cell_type": "code",
   "execution_count": 73,
   "metadata": {},
   "outputs": [],
   "source": [
    "import numpy as np\n",
    "import pandas as pd\n",
    "from sklearn.model_selection import train_test_split\n",
    "from sklearn.preprocessing import scale\n",
    "from sklearn.linear_model import LinearRegression\n",
    "from sklearn.model_selection import cross_val_score\n",
    "from sklearn import metrics"
   ]
  },
  {
   "cell_type": "markdown",
   "metadata": {},
   "source": [
    "### Reading the heart dataset and assigning it to a Pandas DataFrame"
   ]
  },
  {
   "cell_type": "code",
   "execution_count": 74,
   "metadata": {},
   "outputs": [],
   "source": [
    "df = pd.DataFrame()\n",
    "df = pd.read_csv('https://raw.githubusercontent.com/caceresdaniel/DataScience/master/Credit.csv')"
   ]
  },
  {
   "cell_type": "markdown",
   "metadata": {},
   "source": [
    "### Generating Feature matrix and target vector and then normalizing the features"
   ]
  },
  {
   "cell_type": "code",
   "execution_count": 75,
   "metadata": {},
   "outputs": [],
   "source": [
    "features = ['Income','Limit','Rating','Cards','Age','Education','Married']\n",
    "\n",
    "x = df[features]\n",
    "\n",
    "y = df['Balance']\n",
    "\n",
    "newx = scale(x)"
   ]
  },
  {
   "cell_type": "markdown",
   "metadata": {},
   "source": [
    "### Splitting the data set into testing and training sets with test size = 0.24 and random state = 4"
   ]
  },
  {
   "cell_type": "code",
   "execution_count": 76,
   "metadata": {},
   "outputs": [],
   "source": [
    "x_train, x_test, y_train, y_test = train_test_split(newx, y, test_size=0.24,random_state=4)"
   ]
  },
  {
   "cell_type": "markdown",
   "metadata": {},
   "source": [
    "### Using linear Regression to train a linear model on the training set, then printing the coefficients of the linear regressin model"
   ]
  },
  {
   "cell_type": "code",
   "execution_count": 77,
   "metadata": {},
   "outputs": [
    {
     "name": "stdout",
     "output_type": "stream",
     "text": [
      "517.6919750342976\n",
      "[-264.98372644  131.99156792  478.53169403   14.72121881  -29.7832935\n",
      "    1.67827514  -20.20616103]\n"
     ]
    }
   ],
   "source": [
    "linReg = LinearRegression()\n",
    "\n",
    "linReg.fit(x_train, y_train)\n",
    "\n",
    "print(linReg.intercept_)\n",
    "\n",
    "print(linReg.coef_)"
   ]
  },
  {
   "cell_type": "markdown",
   "metadata": {},
   "source": [
    "#### E) by looking at the coefficients given Rating is the most important feature and the least important feature is income."
   ]
  },
  {
   "cell_type": "markdown",
   "metadata": {},
   "source": [
    "### Predicting the balance using the testing set, and then calculating the RMSE"
   ]
  },
  {
   "cell_type": "code",
   "execution_count": 78,
   "metadata": {},
   "outputs": [
    {
     "name": "stdout",
     "output_type": "stream",
     "text": [
      "161.51385491175333\n"
     ]
    }
   ],
   "source": [
    "y_pred = linReg.predict(x_test)\n",
    "\n",
    "mse = metrics.mean_squared_error(y_test, y_pred)\n",
    "\n",
    "rmse = np.sqrt(mse)\n",
    "\n",
    "print(rmse)"
   ]
  },
  {
   "cell_type": "markdown",
   "metadata": {},
   "source": [
    "### Using 10 fold Cross-Validation to evaluate the performace of linear regression and then finding out the RMSE by conversting the scores to positive, finding the square root, of each value in the list which gives the RMSE "
   ]
  },
  {
   "cell_type": "code",
   "execution_count": 79,
   "metadata": {},
   "outputs": [
    {
     "name": "stdout",
     "output_type": "stream",
     "text": [
      "[153.7754992  178.89394627 188.31527914 193.20353826 119.75525901\n",
      " 183.38039983 177.85385343 111.76315739 144.04725656 152.331702  ]\n"
     ]
    }
   ],
   "source": [
    "lracclist = cross_val_score(linReg, newx, y, cv=10, scoring='neg_mean_squared_error')\n",
    "\n",
    "listToPos = -lracclist\n",
    "\n",
    "rmseList = np.sqrt(listToPos)\n",
    "\n",
    "print(rmseList)"
   ]
  },
  {
   "cell_type": "markdown",
   "metadata": {},
   "source": [
    "### The mean value of list of RMSE's generated"
   ]
  },
  {
   "cell_type": "code",
   "execution_count": 80,
   "metadata": {},
   "outputs": [
    {
     "name": "stdout",
     "output_type": "stream",
     "text": [
      "160.33198910744133\n"
     ]
    }
   ],
   "source": [
    "print(rmseList.mean())"
   ]
  }
 ],
 "metadata": {
  "kernelspec": {
   "display_name": "Python 3",
   "language": "python",
   "name": "python3"
  },
  "language_info": {
   "codemirror_mode": {
    "name": "ipython",
    "version": 3
   },
   "file_extension": ".py",
   "mimetype": "text/x-python",
   "name": "python",
   "nbconvert_exporter": "python",
   "pygments_lexer": "ipython3",
   "version": "3.6.5"
  }
 },
 "nbformat": 4,
 "nbformat_minor": 2
}
