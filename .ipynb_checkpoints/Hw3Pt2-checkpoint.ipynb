{
 "cells": [
  {
   "cell_type": "code",
   "execution_count": 3,
   "metadata": {},
   "outputs": [],
   "source": [
    "import numpy as np\n",
    "import pandas as pd\n",
    "#provides tools to iterate through list\n",
    "import itertools\n",
    "from sklearn.datasets import load_iris\n",
    "from sklearn.metrics import accuracy_score\n",
    "from sklearn.model_selection import train_test_split"
   ]
  },
  {
   "cell_type": "code",
   "execution_count": 4,
   "metadata": {},
   "outputs": [
    {
     "name": "stdout",
     "output_type": "stream",
     "text": [
      "      Income  Limit  Rating  Cards  Age  Education  Married  Balance\n",
      "0     14.891   3606     283      2   34         11        1      333\n",
      "1    106.025   6645     483      3   82         15        1      903\n",
      "2    104.593   7075     514      4   71         11        0      580\n",
      "3    148.924   9504     681      3   36         11        0      964\n",
      "4     55.882   4897     357      2   68         16        1      331\n",
      "5     80.180   8047     569      4   77         10        0     1151\n",
      "6     20.996   3388     259      2   37         12        0      203\n",
      "7     71.408   7114     512      2   87          9        0      872\n",
      "8     15.125   3300     266      5   66         13        0      279\n",
      "9     71.061   6819     491      3   41         19        1     1350\n",
      "10    63.095   8117     589      4   30         14        1     1407\n",
      "11    15.045   1311     138      3   64         16        0        0\n",
      "12    80.616   5308     394      1   57          7        1      204\n",
      "13    43.682   6922     511      1   49          9        1     1081\n",
      "14    19.144   3291     269      2   75         13        0      148\n",
      "15    20.089   2525     200      3   57         15        1        0\n",
      "16    53.598   3714     286      3   73         17        1        0\n",
      "17    36.496   4378     339      3   69         15        1      368\n",
      "18    49.570   6384     448      1   28          9        1      891\n",
      "19    42.079   6626     479      2   44          9        0     1048\n",
      "20    17.700   2860     235      4   63         16        0       89\n",
      "21    37.348   6378     458      1   72         17        0      968\n",
      "22    20.103   2631     213      3   61         10        1        0\n",
      "23    64.027   5179     398      5   48          8        1      411\n",
      "24    10.742   1757     156      3   57         15        0        0\n",
      "25    14.090   4323     326      5   25         16        1      671\n",
      "26    42.471   3625     289      6   44         12        0      654\n",
      "27    32.793   4534     333      2   44         16        0      467\n",
      "28   186.634  13414     949      2   41         14        1     1809\n",
      "29    26.813   5611     411      4   55         16        0      915\n",
      "..       ...    ...     ...    ...  ...        ...      ...      ...\n",
      "370   35.610   6135     466      4   40         12        0      992\n",
      "371   39.116   2150     173      4   75         15        0        0\n",
      "372   19.782   3782     293      2   46         16        0      840\n",
      "373   55.412   5354     383      2   37         16        1     1003\n",
      "374   29.400   4840     368      3   76         18        1      588\n",
      "375   20.974   5673     413      5   44         16        1     1000\n",
      "376   87.625   7167     515      2   46         10        0      767\n",
      "377   28.144   1567     142      3   51         10        1        0\n",
      "378   19.349   4941     366      1   33         19        1      717\n",
      "379   53.308   2860     214      1   84         10        1        0\n",
      "380  115.123   7760     538      3   83         14        0      661\n",
      "381  101.788   8029     574      2   84         11        1      849\n",
      "382   24.824   5495     409      1   33          9        0     1352\n",
      "383   14.292   3274     282      9   64          9        1      382\n",
      "384   20.088   1870     180      3   76         16        0        0\n",
      "385   26.400   5640     398      3   58         15        0      905\n",
      "386   19.253   3683     287      4   57         10        0      371\n",
      "387   16.529   1357     126      3   62          9        0        0\n",
      "388   37.878   6827     482      2   80         13        0     1129\n",
      "389   83.948   7100     503      2   44         18        0      806\n",
      "390  135.118  10578     747      3   81         15        1     1393\n",
      "391   73.327   6555     472      2   43         15        0      721\n",
      "392   25.974   2308     196      2   24         10        0        0\n",
      "393   17.316   1335     138      2   65         13        0        0\n",
      "394   49.794   5758     410      4   40          8        0      734\n",
      "395   12.096   4100     307      3   32         13        1      560\n",
      "396   13.364   3838     296      5   65         17        0      480\n",
      "397   57.872   4171     321      5   67         12        1      138\n",
      "398   37.728   2525     192      1   44         13        1        0\n",
      "399   18.701   5524     415      5   64          7        0      966\n",
      "\n",
      "[400 rows x 8 columns]\n"
     ]
    }
   ],
   "source": [
    "df = pd.DataFrame()\n",
    "df = pd.read_csv('https://raw.githubusercontent.com/caceresdaniel/DataScience/master/Credit.csv')\n",
    "\n",
    "print(df)"
   ]
  },
  {
   "cell_type": "code",
   "execution_count": null,
   "metadata": {},
   "outputs": [],
   "source": []
  },
  {
   "cell_type": "code",
   "execution_count": null,
   "metadata": {},
   "outputs": [],
   "source": []
  },
  {
   "cell_type": "code",
   "execution_count": null,
   "metadata": {},
   "outputs": [],
   "source": []
  },
  {
   "cell_type": "code",
   "execution_count": null,
   "metadata": {},
   "outputs": [],
   "source": []
  },
  {
   "cell_type": "code",
   "execution_count": null,
   "metadata": {},
   "outputs": [],
   "source": []
  },
  {
   "cell_type": "code",
   "execution_count": null,
   "metadata": {},
   "outputs": [],
   "source": []
  },
  {
   "cell_type": "code",
   "execution_count": null,
   "metadata": {},
   "outputs": [],
   "source": []
  },
  {
   "cell_type": "code",
   "execution_count": null,
   "metadata": {},
   "outputs": [],
   "source": []
  },
  {
   "cell_type": "code",
   "execution_count": null,
   "metadata": {},
   "outputs": [],
   "source": []
  },
  {
   "cell_type": "code",
   "execution_count": null,
   "metadata": {},
   "outputs": [],
   "source": []
  },
  {
   "cell_type": "code",
   "execution_count": null,
   "metadata": {},
   "outputs": [],
   "source": []
  },
  {
   "cell_type": "code",
   "execution_count": null,
   "metadata": {},
   "outputs": [],
   "source": []
  },
  {
   "cell_type": "code",
   "execution_count": null,
   "metadata": {},
   "outputs": [],
   "source": []
  }
 ],
 "metadata": {
  "kernelspec": {
   "display_name": "Python 3",
   "language": "python",
   "name": "python3"
  },
  "language_info": {
   "codemirror_mode": {
    "name": "ipython",
    "version": 3
   },
   "file_extension": ".py",
   "mimetype": "text/x-python",
   "name": "python",
   "nbconvert_exporter": "python",
   "pygments_lexer": "ipython3",
   "version": "3.6.5"
  }
 },
 "nbformat": 4,
 "nbformat_minor": 2
}
