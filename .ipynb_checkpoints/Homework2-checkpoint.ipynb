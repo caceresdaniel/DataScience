{
 "cells": [
  {
   "cell_type": "markdown",
   "metadata": {},
   "source": [
    "## Homework 2\n",
    "Problem 1"
   ]
  },
  {
   "cell_type": "markdown",
   "metadata": {},
   "source": [
    "a11 = g(-1*.8+.5*1+1*.4) = .525\n",
    "\n",
    "a21 = g(-1*.-1+1*.9+1*1) = .881\n",
    "\n",
    "a12 = =g(1*.3+-1.2*.1+1.1*2) = .508\n",
    "\n",
    "Eg12 = (0 - .508)(.508)*(1-.508) = -.127\n",
    "\n",
    "Eg11 = (1.2 * -.127)(.525)(1-.525) = 0.038\n",
    "\n",
    "Eg21 = (1.1 * -.127)(.881)(1-.881) = -.015\n",
    "\n",
    "w11 = -1.2+ .1*-.127*.525 = -1.207\n",
    "\n",
    "w12 = 1.1 + .1*-.127*.881 = 1.089\n",
    "\n",
    "w13 = .3 + .1*-.127*-1 = .313\n",
    "\n",
    "w11 = .5+.1*.038*1 = .538\n",
    "\n",
    "w12 = .4+.1*.038*1 = .438\n",
    "\n",
    "w13 = .8+.1*.038*-1 = .762\n"
   ]
  },
  {
   "cell_type": "markdown",
   "metadata": {},
   "source": [
    "Problem 2"
   ]
  },
  {
   "cell_type": "code",
   "execution_count": null,
   "metadata": {},
   "outputs": [],
   "source": [
    "import numpy as np\n",
    "\n",
    "from keras.wrappers.scikit_learn import KerasClassifier\n",
    "from sklearn.model_selection import GridSearchCV\n",
    "from keras.datasets import mnist"
   ]
  },
  {
   "cell_type": "code",
   "execution_count": null,
   "metadata": {},
   "outputs": [],
   "source": [
    "(X_train, y_train), (X_test, y_test) = mnist.load_data()\n",
    "\n",
    "X_train = X_train.reshape(X_train.shape[0], 784)\n",
    "X_test = X_test.reshape(X_test.shape[0], 784)\n",
    "X_train = X_train.astype('float32')\n",
    "X_test = X_test.astype('float32')\n",
    "X_train /= 255\n",
    "X_test /= 255"
   ]
  },
  {
   "cell_type": "code",
   "execution_count": null,
   "metadata": {},
   "outputs": [],
   "source": [
    "y_train = np_utils.to_categorical(y_train, 10)\n",
    "y_test = np_utils.to_categorical(y_test, 10)\n"
   ]
  },
  {
   "cell_type": "code",
   "execution_count": null,
   "metadata": {},
   "outputs": [],
   "source": [
    "def model_creator():\n",
    "    model = Sequential()\n",
    "    model.add(Dense(hidden_neurons, input_dim = input_size))  # Nuerons\n",
    "    model.add(Activation('sigmoid')) # Activation\n",
    "    model.add(Dense(out_size, input_dim = hidden_neurons))  # Nuerons\n",
    "    model.add(Activation('softmax')) # Activation\n",
    "    model.compile(loss='categorical_crossentropy',\n",
    "              metrics=['accuracy'],\n",
    "              optimizer='adam')\n",
    "    return model"
   ]
  },
  {
   "cell_type": "code",
   "execution_count": null,
   "metadata": {},
   "outputs": [],
   "source": [
    "seed = 2, np.random.seed(seed)"
   ]
  },
  {
   "cell_type": "code",
   "execution_count": null,
   "metadata": {},
   "outputs": [],
   "source": [
    "model = KerasClassifier(build_fn = model_creator, verbose=2)"
   ]
  },
  {
   "cell_type": "code",
   "execution_count": null,
   "metadata": {},
   "outputs": [],
   "source": [
    "epochs = np.array([10 , 15 , 20])\n",
    "batches = np.array([30 , 50 , 100])\n",
    "param_grid = dict(nb_epochs=epochs, batch_size=batches)\n",
    "grid = GridSearchCV(estimator=model, param_grid=param_grid, scoring='neg_log_loss', cv=10, n_jobs=-1)\n",
    "grid_result = grid.fit(X_train, y_train)\n",
    "print(\"Best: %f using %s\" % (grid_result.best_score_, grid_result.best_params_))"
   ]
  },
  {
   "cell_type": "code",
   "execution_count": null,
   "metadata": {},
   "outputs": [],
   "source": []
  }
 ],
 "metadata": {
  "kernelspec": {
   "display_name": "Python 3",
   "language": "python",
   "name": "python3"
  },
  "language_info": {
   "codemirror_mode": {
    "name": "ipython",
    "version": 3
   },
   "file_extension": ".py",
   "mimetype": "text/x-python",
   "name": "python",
   "nbconvert_exporter": "python",
   "pygments_lexer": "ipython3",
   "version": "3.6.5"
  }
 },
 "nbformat": 4,
 "nbformat_minor": 2
}
