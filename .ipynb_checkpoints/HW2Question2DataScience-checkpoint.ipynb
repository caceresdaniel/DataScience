{
 "cells": [
  {
   "cell_type": "markdown",
   "metadata": {},
   "source": [
    "### Importing all the packages needed for scikit-learn, and so on "
   ]
  },
  {
   "cell_type": "code",
   "execution_count": 129,
   "metadata": {},
   "outputs": [],
   "source": [
    "import numpy as np\n",
    "import pandas as pd\n",
    "#provides tools to iterate through list\n",
    "import itertools\n",
    "from sklearn.neighbors import KNeighborsClassifier\n",
    "from sklearn.datasets import load_iris\n",
    "from sklearn.metrics import accuracy_score\n",
    "from sklearn.model_selection import train_test_split"
   ]
  },
  {
   "cell_type": "markdown",
   "metadata": {},
   "source": [
    "### Reading the iris dataset and assigning it to a Pandas DataFrame"
   ]
  },
  {
   "cell_type": "code",
   "execution_count": 1,
   "metadata": {},
   "outputs": [
    {
     "ename": "NameError",
     "evalue": "name 'pd' is not defined",
     "output_type": "error",
     "traceback": [
      "\u001b[1;31m---------------------------------------------------------------------------\u001b[0m",
      "\u001b[1;31mNameError\u001b[0m                                 Traceback (most recent call last)",
      "\u001b[1;32m<ipython-input-1-f9414419cd0c>\u001b[0m in \u001b[0;36m<module>\u001b[1;34m()\u001b[0m\n\u001b[1;32m----> 1\u001b[1;33m \u001b[0mdf\u001b[0m \u001b[1;33m=\u001b[0m \u001b[0mpd\u001b[0m\u001b[1;33m.\u001b[0m\u001b[0mDataFrame\u001b[0m\u001b[1;33m(\u001b[0m\u001b[1;33m)\u001b[0m\u001b[1;33m\u001b[0m\u001b[0m\n\u001b[0m\u001b[0;32m      2\u001b[0m \u001b[0mdf\u001b[0m \u001b[1;33m=\u001b[0m \u001b[0mpd\u001b[0m\u001b[1;33m.\u001b[0m\u001b[0mread_csv\u001b[0m\u001b[1;33m(\u001b[0m\u001b[1;34m'https://raw.githubusercontent.com/caceresdaniel/DataScience/master/Heart_s.csv'\u001b[0m\u001b[1;33m)\u001b[0m\u001b[1;33m\u001b[0m\u001b[0m\n",
      "\u001b[1;31mNameError\u001b[0m: name 'pd' is not defined"
     ]
    }
   ],
   "source": [
    "df = pd.DataFrame()\n",
    "df = pd.read_csv('https://raw.githubusercontent.com/mpourhoma/CS4661/master/iris.csv')"
   ]
  },
  {
   "cell_type": "markdown",
   "metadata": {},
   "source": [
    "### Splitting the data set into testing and training sets with test size = 0.4 and random state = 6"
   ]
  },
  {
   "cell_type": "code",
   "execution_count": 131,
   "metadata": {},
   "outputs": [],
   "source": [
    "feature_cols = ['sepal_length','sepal_width','petal_length','petal_width']\n",
    "\n",
    "x = df[feature_cols]\n",
    "\n",
    "y = df['species']\n",
    "\n",
    "x_train, x_test, y_train, y_test = train_test_split(x, y, test_size=0.4,random_state=6)"
   ]
  },
  {
   "cell_type": "markdown",
   "metadata": {},
   "source": [
    "### Instantiating the KNN object, then training the data with .fit() as well as testing the data with .predict() and finally checking the accuracy of prediction"
   ]
  },
  {
   "cell_type": "code",
   "execution_count": 132,
   "metadata": {},
   "outputs": [
    {
     "name": "stdout",
     "output_type": "stream",
     "text": [
      "0.9666666666666667\n"
     ]
    }
   ],
   "source": [
    "k = 3\n",
    "knn = KNeighborsClassifier(n_neighbors=k)\n",
    "\n",
    "knn.fit(x_train, y_train)\n",
    "y_predict = knn.predict(x_test)\n",
    "\n",
    "accuracy = accuracy_score(y_test, y_predict)\n",
    "\n",
    "print(accuracy)"
   ]
  },
  {
   "cell_type": "markdown",
   "metadata": {},
   "source": [
    "### Repeating the step above but with different values of K"
   ]
  },
  {
   "cell_type": "code",
   "execution_count": 133,
   "metadata": {},
   "outputs": [
    {
     "name": "stdout",
     "output_type": "stream",
     "text": [
      "[0.95, 0.9833333333333333, 0.9666666666666667, 0.9666666666666667, 0.9333333333333333, 0.9166666666666666, 0.8166666666666667]\n"
     ]
    }
   ],
   "source": [
    "ks = [1, 5, 7, 11, 15, 27, 59]\n",
    "accs = []\n",
    "\n",
    "#simple for loop that does the calculation for each value of k from the list of ks\n",
    "for k in ks:\n",
    "    knnNew = KNeighborsClassifier(n_neighbors=k)\n",
    "    knnNew.fit(x_train, y_train)\n",
    "    y_p = knnNew.predict(x_test)\n",
    "    acc = accuracy_score(y_test, y_p)\n",
    "    accs.append(acc)\n",
    "    \n",
    "print(accs)"
   ]
  },
  {
   "cell_type": "markdown",
   "metadata": {},
   "source": [
    "#### D) The accuracy does not always get better  by increasing the value of K but in some cases it does for instance changing the value of k from 1 to 5 made a small increace but after continually increasing k after 5 the accuracy decreases"
   ]
  },
  {
   "cell_type": "markdown",
   "metadata": {},
   "source": [
    "### Created a function to handle the following calculations for parts E and F, where each has a different amount of features, the data is trained, tested and then the accuracy is calculated for the designated amount of features"
   ]
  },
  {
   "cell_type": "code",
   "execution_count": 143,
   "metadata": {},
   "outputs": [],
   "source": [
    "def calc(features):\n",
    "    xs = df[features]\n",
    "    ys = df['species']\n",
    "    \n",
    "    xs_train, xs_test, ys_train, ys_test = train_test_split(xs, ys, test_size=0.4,random_state=6)\n",
    "    \n",
    "    #if statement that handles the issue when using a single feature and reshapes the list to be able to be used\n",
    "    if(xs_train.ndim == 1):\n",
    "        xs_train = xs_train.values.reshape(-1, 1)\n",
    "        xs_test = xs_test.values.reshape(-1, 1)\n",
    "    \n",
    "    knn.fit(xs_train, ys_train)\n",
    "    xs_predict = knn.predict(xs_test)\n",
    "    acc = accuracy_score(ys_test, xs_predict)\n",
    "    print(feat)\n",
    "    print(acc)"
   ]
  },
  {
   "cell_type": "markdown",
   "metadata": {},
   "source": [
    "### Checking the accuracy for every single Feature and running it through the function above"
   ]
  },
  {
   "cell_type": "code",
   "execution_count": 144,
   "metadata": {},
   "outputs": [
    {
     "name": "stdout",
     "output_type": "stream",
     "text": [
      "sepal_length\n",
      "0.7166666666666667\n",
      "sepal_width\n",
      "0.5666666666666667\n",
      "petal_length\n",
      "0.9333333333333333\n",
      "petal_width\n",
      "0.95\n"
     ]
    }
   ],
   "source": [
    "features = ['sepal_length', 'sepal_width', 'petal_length', 'petal_width']\n",
    "\n",
    "for feat in features:\n",
    "    calc(feat)"
   ]
  },
  {
   "cell_type": "markdown",
   "metadata": {},
   "source": [
    "#### E) From this information we can tell that Petal Width is the feature with the best Accuracy, the Second best feature is Petal Length"
   ]
  },
  {
   "cell_type": "markdown",
   "metadata": {},
   "source": [
    "###  Checking the accuracy for a pair of features and running it through the fuction above"
   ]
  },
  {
   "cell_type": "code",
   "execution_count": 145,
   "metadata": {
    "scrolled": true
   },
   "outputs": [
    {
     "name": "stdout",
     "output_type": "stream",
     "text": [
      "['sepal_length', 'sepal_width']\n",
      "0.8166666666666667\n",
      "['sepal_length', 'petal_length']\n",
      "0.9833333333333333\n",
      "['sepal_length', 'petal_width']\n",
      "0.95\n",
      "['sepal_width', 'petal_length']\n",
      "0.95\n",
      "['sepal_width', 'petal_width']\n",
      "0.95\n",
      "['petal_length', 'petal_width']\n",
      "0.9666666666666667\n"
     ]
    }
   ],
   "source": [
    "for a, b in itertools.combinations(features, 2):\n",
    "    feat = [a, b]\n",
    "    calc(feat)"
   ]
  },
  {
   "cell_type": "markdown",
   "metadata": {},
   "source": [
    "#### F) The feature pair the provides the best accuracy is Sepal length and Petal length"
   ]
  },
  {
   "cell_type": "markdown",
   "metadata": {},
   "source": [
    "#### G) No it does not contain both of the best features from part (e), it only contains the first best feature, so we can conculde that it does not always contain the first and second best features"
   ]
  },
  {
   "cell_type": "markdown",
   "metadata": {},
   "source": []
  }
 ],
 "metadata": {
  "kernelspec": {
   "display_name": "Python 3",
   "language": "python",
   "name": "python3"
  },
  "language_info": {
   "codemirror_mode": {
    "name": "ipython",
    "version": 3
   },
   "file_extension": ".py",
   "mimetype": "text/x-python",
   "name": "python",
   "nbconvert_exporter": "python",
   "pygments_lexer": "ipython3",
   "version": "3.6.5"
  }
 },
 "nbformat": 4,
 "nbformat_minor": 2
}
